{
 "cells": [
  {
   "cell_type": "code",
   "execution_count": 1,
   "id": "35b95a1f",
   "metadata": {},
   "outputs": [],
   "source": [
    "%load_ext autoreload\n",
    "%autoreload 2\n",
    "\n",
    "import sys\n",
    "\n",
    "import numpy as np\n",
    "import matplotlib.pyplot as plt\n",
    "\n",
    "from tqdm import tqdm\n",
    "from numba import jit\n",
    "\n",
    "import EOT.EOT as eot\n",
    "import EOT.costs as costs\n",
    "import EOT.utils as utils"
   ]
  },
  {
   "cell_type": "code",
   "execution_count": 2,
   "id": "bcd0f348",
   "metadata": {},
   "outputs": [],
   "source": [
    "n_float = 2\n",
    "np.set_printoptions(n_float)\n",
    "COLORS = ['tab:green', 'tab:purple', 'tab:orange']"
   ]
  },
  {
   "cell_type": "code",
   "execution_count": 3,
   "id": "3829e9fc",
   "metadata": {
    "lines_to_next_cell": 2
   },
   "outputs": [
    {
     "name": "stdout",
     "output_type": "stream",
     "text": [
      "         Cost Matrix Agent 0         \n",
      "\n",
      "[[ 0.64  1.07  1.25  0.81  2.14  4.65]\n",
      " [ 3.07  2.89  3.06  2.46  6.74  1.59]\n",
      " [ 3.67  2.73  2.74  5.44  9.44  0.26]\n",
      " [ 2.21  3.5   3.85  0.09  1.28  8.94]\n",
      " [ 1.32  2.5   2.71  2.45  0.09 12.17]\n",
      " [ 0.02  0.1   0.16  2.73  2.16  5.38]] \n",
      "\n",
      "         Cost Matrix Agent 1         \n",
      "\n",
      "[[6.10e-01 1.07e+00 1.28e+00 7.93e-01 2.30e+00 5.42e+00]\n",
      " [3.43e+00 3.22e+00 3.42e+00 2.69e+00 8.16e+00 1.67e+00]\n",
      " [4.17e+00 3.01e+00 3.03e+00 6.44e+00 1.18e+01 2.29e-01]\n",
      " [2.40e+00 3.97e+00 4.40e+00 6.95e-02 1.32e+00 1.11e+01]\n",
      " [1.36e+00 2.74e+00 3.00e+00 2.68e+00 7.01e-02 1.56e+01]\n",
      " [1.20e-02 8.22e-02 1.35e-01 3.02e+00 2.33e+00 6.37e+00]] \n",
      "\n",
      "         Cost Matrix Agent 2         \n",
      "\n",
      "[[1. 1. 1. 1. 1. 1.]\n",
      " [1. 1. 1. 1. 1. 1.]\n",
      " [1. 1. 1. 1. 1. 1.]\n",
      " [1. 1. 1. 1. 1. 1.]\n",
      " [1. 1. 1. 1. 1. 1.]\n",
      " [1. 1. 1. 1. 1. 1.]] \n",
      "\n"
     ]
    }
   ],
   "source": [
    "##### generate ressources \n",
    "num_samples = 6\n",
    "X, Y = utils.simul_two_Gaussians(num_samples)\n",
    "a = (1 / num_samples) * np.ones(num_samples)\n",
    "b = (1 / num_samples) * np.ones(num_samples)\n",
    "\n",
    "\n",
    "#### generate costs\n",
    "C1 = costs.Square_Euclidean_Distance(X, Y)\n",
    "C2 = costs.alpha_Euclidean_Distance(X, Y, alpha=2.2) #square cost a la puissance alpha\n",
    "C3 = costs.Trivial_cost(X, Y) # 0 si x=y et 1 sinon\n",
    "\n",
    "C = np.zeros((3, num_samples, num_samples))\n",
    "C[0, :, :] = C1\n",
    "C[1, :, :] = C2\n",
    "C[2, :, :] = C3\n",
    "C[:,:,:]*=1\n",
    "\n",
    "if True :\n",
    "    for i, cost_matrix in enumerate(C):\n",
    "        size_matrix = 1 + num_samples*(4+n_float)\n",
    "        print(f\"{f'Cost Matrix Agent {i}':^{size_matrix}}\\n\")\n",
    "        print(cost_matrix, \"\\n\")"
   ]
  },
  {
   "cell_type": "code",
   "execution_count": 4,
   "id": "3af2fe83",
   "metadata": {},
   "outputs": [
    {
     "name": "stderr",
     "output_type": "stream",
     "text": [
      "/Users/guillaume/Projets/OT_DM/EOT/EOT.py:72: NumbaPerformanceWarning: np.dot() is faster on contiguous arrays, called on (array(float64, 2d, A), array(float64, 1d, C))\n",
      "  lam_trans[i] = np.dot(k_lam_trans, beta)\n"
     ]
    },
    {
     "data": {
      "image/png": "[encoded data removed]",
      "text/plain": [
       "<Figure size 432x288 with 1 Axes>"
      ]
     },
     "metadata": {
      "needs_background": "light"
     },
     "output_type": "display_data"
    }
   ],
   "source": [
    "### test the accuracy of the algo compared to LP solver\n",
    "if True :\n",
    "    utils.plot_accuracy_algorithm(C, a, b)"
   ]
  },
  {
   "cell_type": "code",
   "execution_count": 5,
   "id": "96249366",
   "metadata": {},
   "outputs": [],
   "source": [
    "def gen_word(num_samples):\n",
    "    X, Y = utils.simul_two_Gaussians(num_samples)\n",
    "    a = (1 / num_samples) * np.ones(num_samples)\n",
    "    return X, Y, a, a"
   ]
  },
  {
   "cell_type": "code",
   "execution_count": 6,
   "id": "aa4f13ee",
   "metadata": {},
   "outputs": [],
   "source": [
    "def run_simu_2(num_samples, num_agents, max_iter=50000, val_min=0, val_max=1, eps=5e-3):\n",
    "    \"\"\"Simulation de l'algorithme avec des signes fixes pour tous les agents\"\"\"\n",
    "    \n",
    "    assert np.exp(val_max/eps) < float('inf'), 'val max is too high with respect to eps'\n",
    "    \n",
    "    # Génération des points et des poids associés\n",
    "    X, Y, a, b = gen_word(num_samples)\n",
    "    \n",
    "    # Génération des coûts\n",
    "    C = np.random.uniform(val_min, val_max, (num_agents, num_samples, num_samples))\n",
    "    \n",
    "    # Génération des signes des couts\n",
    "    C_signes = np.random.choice([-1, 1], (num_samples, num_samples))\n",
    "    for i, c in enumerate(C):\n",
    "        C[i] = np.multiply(c, C_signes)\n",
    "        \n",
    "    # Run algo\n",
    "    return X, Y, C, eot.EOT_PSinkhorn(C, eps, a, b)"
   ]
  },
  {
   "cell_type": "code",
   "execution_count": 7,
   "id": "fe572c14",
   "metadata": {},
   "outputs": [],
   "source": [
    "def diff_prc_simu_2(res_run_simu_2):\n",
    "    \"\"\"Return the max diff in pourcentage of the diff of the mean of price and price of players\"\"\"\n",
    "    \n",
    "    X, Y, C, all_res = res_run_simu_2\n",
    "    alpha, beta, denom, _, K_trans = all_res[3:] \n",
    "\n",
    "    couplings = (alpha[:, np.newaxis] * K_trans * beta[np.newaxis, :]) / denom\n",
    "    price = np.array(utils.price_of_players(C, couplings))\n",
    "\n",
    "    diff = np.abs(price.max() - price.min())\n",
    "    \n",
    "    return np.abs(diff/price.mean()) * 100"
   ]
  },
  {
   "cell_type": "code",
   "execution_count": 8,
   "id": "6b90c8ac",
   "metadata": {},
   "outputs": [],
   "source": [
    "num_samples = 5\n",
    "num_agents = 3\n",
    "num_simu = 1000\n",
    "\n",
    "simulations = [run_simu_2(num_samples, num_agents) for _ in range(num_simu)]\n",
    "diff_res = [diff_prc_simu_2(res) for res in simulations]"
   ]
  },
  {
   "cell_type": "code",
   "execution_count": 9,
   "id": "455c9f71",
   "metadata": {},
   "outputs": [
    {
     "data": {
      "image/png": "[encoded data removed]",
      "text/plain": [
       "<Figure size 432x288 with 1 Axes>"
      ]
     },
     "metadata": {
      "needs_background": "light"
     },
     "output_type": "display_data"
    }
   ],
   "source": [
    "s = np.argsort(diff_res)\n",
    "plt.hist(np.take(diff_res, s), 30)\n",
    "plt.show()"
   ]
  },
  {
   "cell_type": "code",
   "execution_count": 10,
   "id": "d6c26abd",
   "metadata": {},
   "outputs": [],
   "source": [
    "res_pb = simulations[s[-1]]"
   ]
  },
  {
   "cell_type": "code",
   "execution_count": 11,
   "id": "9acdfcdb",
   "metadata": {},
   "outputs": [
    {
     "data": {
      "image/png": "[encoded data removed]",
      "text/plain": [
       "<Figure size 432x288 with 1 Axes>"
      ]
     },
     "metadata": {
      "needs_background": "light"
     },
     "output_type": "display_data"
    }
   ],
   "source": [
    "X, Y, C, all_res = res_pb\n",
    "alpha, beta, denom, _, K_trans = all_res[3:] \n",
    "\n",
    "couplings = (alpha[:, np.newaxis] * K_trans * beta[np.newaxis, :]) / denom\n",
    "\n",
    "utils.print_ot_and_cost(X, Y, couplings, C)"
   ]
  },
  {
   "cell_type": "code",
   "execution_count": 12,
   "id": "ffbce97b",
   "metadata": {},
   "outputs": [
    {
     "data": {
      "image/png": "[encoded data removed]",
      "text/plain": [
       "<Figure size 432x288 with 1 Axes>"
      ]
     },
     "metadata": {
      "needs_background": "light"
     },
     "output_type": "display_data"
    }
   ],
   "source": [
    "num_samples = 4\n",
    "\n",
    "X, Y = utils.simul_two_Gaussians(num_samples)\n",
    "a, b = (1 / num_samples) * np.ones(num_samples), (1 / num_samples) * np.ones(\n",
    "    num_samples)\n",
    "\n",
    "C1 = np.random.uniform(0,1,(num_samples,num_samples))\n",
    "C2 = np.random.uniform(0,1,(num_samples,num_samples)) #square cost a la puissance alpha\n",
    "C3 = np.random.uniform(0,1,(num_samples,num_samples)) # 0 si x=y et 1 sinon\n",
    "\n",
    "Cp1 = np.sign(np.random.uniform(-1,1,(num_samples,num_samples)))\n",
    "Cp2 = np.sign(np.random.uniform(-1,1,(num_samples,num_samples)))\n",
    "Cp3 = np.sign(np.random.uniform(-1,1,(num_samples,num_samples)))\n",
    "\n",
    "C = np.zeros((3, num_samples, num_samples))\n",
    "C[0, :, :] = np.multiply(C1,Cp1)\n",
    "C[1, :, :] = np.multiply(C2,Cp2)\n",
    "C[2, :, :] = np.multiply(C3,Cp3)\n",
    "C[:,0,:]*=1\n",
    "\n",
    "if False :\n",
    "    for i, cost_matrix in enumerate(C):\n",
    "        size_matrix = 1 + num_samples*(4+n_float)\n",
    "        print(f\"{f'Cost Matrix Agent {i}':^{size_matrix}}\\n\")\n",
    "        print(cost_matrix, \"\\n\")\n",
    "\n",
    "# run the algo avec reg (epsilon) de 10**-3\n",
    "reg = 5 * 1e-2\n",
    "res, acc, lam, alpha, beta, denom, KC, K_trans = eot.EOT_PSinkhorn(C, reg, a, b)\n",
    "# compute P and check that P satisfies the marginal constraints\n",
    "#plt.plot(acc)\n",
    "#plt.show()\n",
    "couplings = (alpha[:, np.newaxis] * K_trans * beta[np.newaxis, :]) / denom\n",
    "\n",
    "utils.print_ot_and_cost(X, Y, couplings, C)"
   ]
  },
  {
   "cell_type": "code",
   "execution_count": 13,
   "id": "5b5474c5",
   "metadata": {},
   "outputs": [
    {
     "data": {
      "image/png": "[encoded data removed]",
      "text/plain": [
       "<Figure size 432x288 with 1 Axes>"
      ]
     },
     "metadata": {
      "needs_background": "light"
     },
     "output_type": "display_data"
    }
   ],
   "source": [
    "num_samples = 4\n",
    "\n",
    "X, Y = utils.simul_two_Gaussians(num_samples)\n",
    "a, b = (1 / num_samples) * np.ones(num_samples), (1 / num_samples) * np.ones(\n",
    "    num_samples)\n",
    "\n",
    "C1 = np.random.uniform(0,1,(num_samples,num_samples))\n",
    "C2 = np.random.uniform(0,1,(num_samples,num_samples)) #square cost a la puissance alpha\n",
    "C3 = np.random.uniform(0,1,(num_samples,num_samples)) # 0 si x=y et 1 sinon\n",
    "\n",
    "Cp1 = np.sign(np.random.uniform(-1,1,(num_samples,num_samples)))\n",
    "Cp2 = np.sign(np.random.uniform(-1,1,(num_samples,num_samples)))\n",
    "Cp3 = np.sign(np.random.uniform(-1,1,(num_samples,num_samples)))\n",
    "\n",
    "C = np.zeros((3, num_samples, num_samples))\n",
    "C[0, :, :] = np.multiply(C1,Cp1)\n",
    "C[1, :, :] = np.multiply(C2,Cp2)\n",
    "C[2, :, :] = C3*-3\n",
    "C[:,0,:]*=1\n",
    "\n",
    "if False :\n",
    "    for i, cost_matrix in enumerate(C):\n",
    "        size_matrix = 1 + num_samples*(4+n_float)\n",
    "        print(f\"{f'Cost Matrix Agent {i}':^{size_matrix}}\\n\")\n",
    "        print(cost_matrix, \"\\n\")\n",
    "\n",
    "# run the algo avec reg (epsilon) de 10**-3\n",
    "reg = 5 * 1e-2\n",
    "max_iter = 4000\n",
    "res, acc, lam, alpha, beta, denom, KC, K_trans = eot.EOT_PSinkhorn(C, reg, a, b)\n",
    "# compute P and check that P satisfies the marginal constraints\n",
    "#plt.plot(acc)\n",
    "#plt.show()\n",
    "couplings = (alpha[:, np.newaxis] * K_trans * beta[np.newaxis, :]) / denom\n",
    "\n",
    "utils.print_ot_and_cost(X, Y, couplings, C)"
   ]
  },
  {
   "cell_type": "code",
   "execution_count": 14,
   "id": "669cbbc2",
   "metadata": {},
   "outputs": [
    {
     "data": {
      "image/png": "[encoded data removed]",
      "text/plain": [
       "<Figure size 432x288 with 1 Axes>"
      ]
     },
     "metadata": {
      "needs_background": "light"
     },
     "output_type": "display_data"
    }
   ],
   "source": [
    "agent = 1\n",
    "utils.print_ot_and_cost(X, Y, couplings, C, agent)"
   ]
  },
  {
   "cell_type": "markdown",
   "id": "594addcb",
   "metadata": {},
   "source": [
    "## BONUS"
   ]
  },
  {
   "cell_type": "code",
   "execution_count": 15,
   "id": "87b5ccbc",
   "metadata": {},
   "outputs": [
    {
     "ename": "AttributeError",
     "evalue": "module 'EOT.EOT' has no attribute 'EOT_APGD'",
     "output_type": "error",
     "traceback": [
      "\u001b[0;31m---------------------------------------------------------------------------\u001b[0m",
      "\u001b[0;31mAttributeError\u001b[0m                            Traceback (most recent call last)",
      "\u001b[0;32m/var/folders/zs/9mdddcmn3tq426823wdjcqyr0000gn/T/ipykernel_92353/3753948120.py\u001b[0m in \u001b[0;36m<module>\u001b[0;34m\u001b[0m\n\u001b[1;32m      3\u001b[0m \u001b[0;34m\u001b[0m\u001b[0m\n\u001b[1;32m      4\u001b[0m \u001b[0mreg_m\u001b[0m \u001b[0;34m=\u001b[0m \u001b[0;36m5\u001b[0m \u001b[0;34m*\u001b[0m \u001b[0;36m1e-2\u001b[0m\u001b[0;34m\u001b[0m\u001b[0;34m\u001b[0m\u001b[0m\n\u001b[0;32m----> 5\u001b[0;31m \u001b[0mres_m\u001b[0m\u001b[0;34m,\u001b[0m \u001b[0macc_m\u001b[0m\u001b[0;34m,\u001b[0m \u001b[0mtimes_m\u001b[0m\u001b[0;34m,\u001b[0m \u001b[0mlam_m\u001b[0m\u001b[0;34m,\u001b[0m \u001b[0malpha_m\u001b[0m\u001b[0;34m,\u001b[0m \u001b[0mbeta_m\u001b[0m\u001b[0;34m,\u001b[0m \u001b[0mdenom_m\u001b[0m\u001b[0;34m,\u001b[0m \u001b[0mKC_m\u001b[0m\u001b[0;34m,\u001b[0m \u001b[0mK_trans_m\u001b[0m \u001b[0;34m=\u001b[0m \u001b[0meot\u001b[0m\u001b[0;34m.\u001b[0m\u001b[0mEOT_APGD\u001b[0m\u001b[0;34m(\u001b[0m\u001b[0mC\u001b[0m\u001b[0;34m,\u001b[0m \u001b[0mreg_m\u001b[0m\u001b[0;34m,\u001b[0m \u001b[0ma\u001b[0m\u001b[0;34m,\u001b[0m \u001b[0mb\u001b[0m\u001b[0;34m,\u001b[0m \u001b[0mmax_iter\u001b[0m\u001b[0;34m=\u001b[0m\u001b[0mmax_iter\u001b[0m\u001b[0;34m)\u001b[0m\u001b[0;34m\u001b[0m\u001b[0;34m\u001b[0m\u001b[0m\n\u001b[0m\u001b[1;32m      6\u001b[0m \u001b[0;34m\u001b[0m\u001b[0m\n\u001b[1;32m      7\u001b[0m \u001b[0mreg_mm\u001b[0m \u001b[0;34m=\u001b[0m \u001b[0;36m5\u001b[0m\u001b[0;34m*\u001b[0m \u001b[0;36m1e-1\u001b[0m\u001b[0;34m\u001b[0m\u001b[0;34m\u001b[0m\u001b[0m\n",
      "\u001b[0;31mAttributeError\u001b[0m: module 'EOT.EOT' has no attribute 'EOT_APGD'"
     ]
    }
   ],
   "source": [
    "## Accelerated  PGD method\n",
    "max_iter = 2000 # ne marche pas pour plus d'itérations !!!\n",
    "\n",
    "reg_m = 5 * 1e-2\n",
    "res_m, acc_m, times_m, lam_m, alpha_m, beta_m, denom_m, KC_m, K_trans_m = eot.EOT_APGD(C, reg_m, a, b, max_iter=max_iter)\n",
    "\n",
    "reg_mm = 5* 1e-1\n",
    "res_mm, acc_mm, times_m, lam_mm, alpha_mm, beta_mm, denom_mm, KC_mm, K_trans_mm = eot.EOT_APGD(C, reg_mm, a, b, max_iter=max_iter)\n",
    "\n",
    "reg = 5 * 1e-3\n",
    "res, acc, times_m, lam, alpha, beta, denom, KC, K_trans = eot.EOT_APGD(C, reg, a, b, max_iter=max_iter)\n",
    "\n",
    "res_prim = eot.LP_solver_Primal(C, a, b)\n",
    "\n",
    "eps = 1e-2\n",
    "couplings = (alpha[:, np.newaxis] * K_trans * beta[np.newaxis, :]) / denom\n",
    "\n",
    "P1, P2, P3 = couplings\n",
    "P = P1 + P2 + P3\n",
    "# check that P satisfies the marginal constraints\n",
    "#assert (np.sum(P, axis=0) - a < eps).all()\n",
    "#assert (np.sum(P, axis=1) - b < eps).all()\n",
    "\n",
    "\n",
    "plt.plot([res_prim[\"fun\"]]*max_iter, c = \"red\", label = \"LP solver\")\n",
    "plt.plot(acc,c=\"blue\",label = \"eps = 0.005\")\n",
    "plt.plot(acc_m,c=\"turquoise\",label = \"eps = 0.05\")\n",
    "plt.plot(acc_mm,c=\"green\",label = \"eps = 0.5\")\n",
    "plt.legend()\n",
    "plt.show()"
   ]
  },
  {
   "cell_type": "code",
   "execution_count": null,
   "id": "aa648dc8",
   "metadata": {},
   "outputs": [],
   "source": [
    "# Compute the primal formulation of the entropic EOT\n",
    "res_primal = eot.compute_EOT_primal(lam, alpha, beta, KC, denom, reg, a, b)\n",
    "\n",
    "print(res_primal)"
   ]
  }
 ],
 "metadata": {
  "jupytext": {
   "encoding": "# -*- coding: utf-8 -*-",
   "formats": "ipynb,auto:percent,md"
  },
  "kernelspec": {
   "display_name": "Python 3 (ipykernel)",
   "language": "python",
   "name": "python3"
  },
  "language_info": {
   "codemirror_mode": {
    "name": "ipython",
    "version": 3
   },
   "file_extension": ".py",
   "mimetype": "text/x-python",
   "name": "python",
   "nbconvert_exporter": "python",
   "pygments_lexer": "ipython3",
   "version": "3.9.9"
  }
 },
 "nbformat": 4,
 "nbformat_minor": 5
}
